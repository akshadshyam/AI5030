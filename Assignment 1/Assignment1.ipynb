{
 "cells": [
  {
   "cell_type": "code",
   "execution_count": 3,
   "id": "782ebb6f",
   "metadata": {},
   "outputs": [],
   "source": [
    "from itertools import combinations\n",
    "import numpy as np\n",
    "\n",
    "arr = np.zeros((9))\n",
    "\n",
    "indexes = [0,1,2,3,4,5,6,7,8] #Indexes of a matrix\n",
    "combi = combinations(indexes,3)\n",
    "\n",
    "#Creating sample space\n",
    "sample = []\n",
    "for i in combi:\n",
    "    arr = np.zeros(9)\n",
    "    for j in i:\n",
    "        arr[j] = 1\n",
    "    sample.append(arr)"
   ]
  },
  {
   "cell_type": "code",
   "execution_count": 4,
   "id": "9160dc43",
   "metadata": {},
   "outputs": [
    {
     "data": {
      "text/plain": [
       "84"
      ]
     },
     "execution_count": 4,
     "metadata": {},
     "output_type": "execute_result"
    }
   ],
   "source": [
    "#Sample Size\n",
    "len(sample)"
   ]
  },
  {
   "cell_type": "code",
   "execution_count": 5,
   "id": "e5526939",
   "metadata": {},
   "outputs": [
    {
     "name": "stdout",
     "output_type": "stream",
     "text": [
      "6/84\n"
     ]
    }
   ],
   "source": [
    "#Non singular\n",
    "non_singular = 0\n",
    "for i in sample:\n",
    "    array = i.reshape((3,3))\n",
    "    if np.linalg.det(array)!=0:\n",
    "        non_singular+=1\n",
    "\n",
    "print(str(non_singular) + '/' + str(len(sample)))"
   ]
  },
  {
   "cell_type": "code",
   "execution_count": 6,
   "id": "112e47ac",
   "metadata": {},
   "outputs": [
    {
     "name": "stdout",
     "output_type": "stream",
     "text": [
      "6/84\n"
     ]
    }
   ],
   "source": [
    "#Rank of matrix\n",
    "rank_1 = 0\n",
    "for i in sample:\n",
    "    array = i.reshape((3,3))\n",
    "    if np.linalg.matrix_rank(array) == 1:\n",
    "        rank_1+=1\n",
    "\n",
    "print(str(rank_1) + '/' + str(len(sample)))"
   ]
  },
  {
   "cell_type": "code",
   "execution_count": 7,
   "id": "3dc40631",
   "metadata": {},
   "outputs": [
    {
     "name": "stdout",
     "output_type": "stream",
     "text": [
      "1/84\n"
     ]
    }
   ],
   "source": [
    "#Identity matrix\n",
    "identity = 0\n",
    "for i in sample:\n",
    "    array = i.reshape((3,3))\n",
    "    if (array == np.eye(array.shape[0])).all():\n",
    "        identity+=1\n",
    "print(str(identity)+'/'+str(len(sample)))"
   ]
  },
  {
   "cell_type": "code",
   "execution_count": 8,
   "id": "4ad22d5c",
   "metadata": {},
   "outputs": [
    {
     "name": "stdout",
     "output_type": "stream",
     "text": [
      "20/84\n"
     ]
    }
   ],
   "source": [
    "#Trace of a Matrix\n",
    "trace = 0\n",
    "for i in sample:\n",
    "    array = i.reshape((3,3))\n",
    "    if array.trace() == 0:\n",
    "        trace+=1\n",
    "print(str(trace)+'/'+str(len(sample)))"
   ]
  },
  {
   "cell_type": "code",
   "execution_count": null,
   "id": "993910ad",
   "metadata": {},
   "outputs": [],
   "source": []
  }
 ],
 "metadata": {
  "kernelspec": {
   "display_name": "Python 3 (ipykernel)",
   "language": "python",
   "name": "python3"
  },
  "language_info": {
   "codemirror_mode": {
    "name": "ipython",
    "version": 3
   },
   "file_extension": ".py",
   "mimetype": "text/x-python",
   "name": "python",
   "nbconvert_exporter": "python",
   "pygments_lexer": "ipython3",
   "version": "3.8.5"
  }
 },
 "nbformat": 4,
 "nbformat_minor": 5
}
